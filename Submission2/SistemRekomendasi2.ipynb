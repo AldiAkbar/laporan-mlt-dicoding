{
 "cells": [
  {
   "cell_type": "code",
   "execution_count": null,
   "metadata": {
    "id": "IOm7H29doG4Q"
   },
   "outputs": [],
   "source": [
    "import pandas as pd\n",
    "import numpy as np\n",
    "import seaborn as sns\n",
    "import matplotlib.pyplot as plt\n",
    "from zipfile import ZipFile\n",
    "import tensorflow as tf\n",
    "from tensorflow import keras\n",
    "from tensorflow.keras import layers\n",
    "from pathlib import Path\n",
    "import matplotlib.pyplot as plt\n",
    "from wordcloud import WordCloud, STOPWORDS"
   ]
  },
  {
   "cell_type": "code",
   "execution_count": null,
   "metadata": {
    "colab": {
     "base_uri": "https://localhost:8080/",
     "height": 90
    },
    "id": "SfLyNbBIobxz",
    "outputId": "0d4ce100-33d7-47ea-ac78-31dca9c7f7b4"
   },
   "outputs": [],
   "source": [
    "# from google.colab import files\n",
    "# files.upload()\n",
    "# !ls -lha kaggle.json\n",
    "# !pip install -q kaggle\n",
    "# !mkdir -p ~/.kaggle\n",
    "# !cp kaggle.json ~/.kaggle/\n",
    "# !chmod 600 ~/.kaggle/kaggle.json"
   ]
  },
  {
   "cell_type": "code",
   "execution_count": null,
   "metadata": {
    "colab": {
     "base_uri": "https://localhost:8080/"
    },
    "id": "sBUl3kciocZd",
    "outputId": "ba94d356-f96e-4ec6-9cb6-1ec1c017e247"
   },
   "outputs": [],
   "source": [
    "# !kaggle datasets download -d gargmanas/movierecommenderdataset"
   ]
  },
  {
   "cell_type": "code",
   "execution_count": null,
   "metadata": {
    "colab": {
     "base_uri": "https://localhost:8080/"
    },
    "id": "crjMU8zsp4sL",
    "outputId": "f79d18f6-c9a2-45d6-d370-50d243a86e74"
   },
   "outputs": [],
   "source": [
    "# !unzip movierecommenderdataset.zip"
   ]
  },
  {
   "cell_type": "markdown",
   "metadata": {
    "id": "Zqp_I2CXoSa1"
   },
   "source": [
    "# Data Understanding"
   ]
  },
  {
   "cell_type": "code",
   "execution_count": null,
   "metadata": {
    "id": "TxfM7EQ9p_N6"
   },
   "outputs": [],
   "source": [
    "movies = pd.read_csv('movies.csv')\n",
    "ratings = pd.read_csv('ratings.csv')"
   ]
  },
  {
   "cell_type": "code",
   "execution_count": null,
   "metadata": {
    "colab": {
     "base_uri": "https://localhost:8080/"
    },
    "id": "kR2FEbtTqHsM",
    "outputId": "25bc293d-f021-4df2-9580-4fbf4db7db45"
   },
   "outputs": [],
   "source": [
    "print('jumlah data movies:   ', len(movies.movieId.unique()))\n",
    "print('Jumlah data penilaian yang diberikan pengguna: ', len(ratings.userId.unique()))\n",
    "print('Jumlah data penilaian movies: ', len(ratings.movieId.unique()))"
   ]
  },
  {
   "cell_type": "markdown",
   "metadata": {
    "id": "ilhK9bwArK0r"
   },
   "source": [
    "## Movies"
   ]
  },
  {
   "cell_type": "code",
   "execution_count": null,
   "metadata": {
    "colab": {
     "base_uri": "https://localhost:8080/",
     "height": 206
    },
    "id": "bE25zsTJqzDV",
    "outputId": "c0d645d4-f80a-449d-8a5e-8c7e8757b2f5"
   },
   "outputs": [],
   "source": [
    "movies.head()"
   ]
  },
  {
   "cell_type": "code",
   "execution_count": null,
   "metadata": {
    "colab": {
     "base_uri": "https://localhost:8080/"
    },
    "id": "-uyyhV-HrRRz",
    "outputId": "17dba41a-e8b6-4e66-98c7-48be0880ff49"
   },
   "outputs": [],
   "source": [
    "movies.info()"
   ]
  },
  {
   "cell_type": "code",
   "execution_count": null,
   "metadata": {
    "colab": {
     "base_uri": "https://localhost:8080/"
    },
    "id": "9gJgrhlis_6Z",
    "outputId": "772e2abb-744f-4c85-97ba-35e911cf0495"
   },
   "outputs": [],
   "source": [
    "print('jumlah data movies:   ', len(movies.movieId.unique()))\n",
    "print('jumlah genre pada movies:   ',len(movies.genres.unique()))"
   ]
  },
  {
   "cell_type": "code",
   "execution_count": null,
   "metadata": {
    "colab": {
     "base_uri": "https://localhost:8080/",
     "height": 515
    },
    "id": "U9ptt44VthI7",
    "outputId": "6e762901-0f69-46ba-86a4-1b365808b0fd"
   },
   "outputs": [],
   "source": [
    "genres = movies.genres\n",
    "stopwords = set(STOPWORDS)\n",
    "comment_words = ''\n",
    "for genre in genres:\n",
    " \n",
    "    genre = str(genre)\n",
    "    # split the different genres\n",
    "    tokens = genre.split()\n",
    "     \n",
    "    # Converts each token into lowercase\n",
    "    for i in range(len(tokens)):\n",
    "        tokens[i] = tokens[i].lower()\n",
    "     \n",
    "    comment_words += \" \".join(tokens)+\" \"\n",
    "wordcloud = WordCloud(width = 2000, height = 1000, background_color ='black', stopwords = stopwords, min_font_size = 10).generate(comment_words)\n",
    "    \n",
    "#Plot the wordcloud\n",
    "plt.figure(figsize = (13, 10), facecolor = None)\n",
    "plt.imshow(wordcloud)\n",
    "plt.title(\"All Genre\")\n",
    "plt.axis(\"off\")\n",
    "plt.tight_layout(pad = 0)\n",
    "plt.show()"
   ]
  },
  {
   "cell_type": "markdown",
   "metadata": {
    "id": "Mr7SUZPQsbtY"
   },
   "source": [
    "## Ratings"
   ]
  },
  {
   "cell_type": "code",
   "execution_count": null,
   "metadata": {
    "colab": {
     "base_uri": "https://localhost:8080/",
     "height": 206
    },
    "id": "kQMMNulhrXjN",
    "outputId": "46f2615d-26c8-43fa-ff53-8bdf64940936"
   },
   "outputs": [],
   "source": [
    "ratings.head()"
   ]
  },
  {
   "cell_type": "code",
   "execution_count": null,
   "metadata": {
    "colab": {
     "base_uri": "https://localhost:8080/"
    },
    "id": "CQXpPOuUuCRL",
    "outputId": "cfdc711b-cec8-436a-bf16-5c83f986725a"
   },
   "outputs": [],
   "source": [
    "ratings.info()"
   ]
  },
  {
   "cell_type": "code",
   "execution_count": null,
   "metadata": {
    "colab": {
     "base_uri": "https://localhost:8080/"
    },
    "id": "yTP6gHjTusB4",
    "outputId": "62e0f60c-1b28-4b86-ccb2-e6379fd26ee3"
   },
   "outputs": [],
   "source": [
    "ratings.shape"
   ]
  },
  {
   "cell_type": "code",
   "execution_count": null,
   "metadata": {
    "colab": {
     "base_uri": "https://localhost:8080/",
     "height": 300
    },
    "id": "Qv-EAIFGskir",
    "outputId": "68bca700-2bec-41a6-e67e-6c641ceadeaa"
   },
   "outputs": [],
   "source": [
    "ratings.describe()"
   ]
  },
  {
   "cell_type": "code",
   "execution_count": null,
   "metadata": {
    "colab": {
     "base_uri": "https://localhost:8080/"
    },
    "id": "5Y5SgrjmuNCi",
    "outputId": "90f0def3-f0c6-4926-c05e-f4f6da5544a6"
   },
   "outputs": [],
   "source": [
    "print('Jumlah user yang memberikan rating: ', len(ratings.userId.unique()))\n",
    "print('Jumlah movies yang medapatkan rating dari user: ', len(ratings.movieId.unique()))\n",
    "print('Jumlah data ratings: ', len(ratings))"
   ]
  },
  {
   "cell_type": "code",
   "execution_count": null,
   "metadata": {
    "colab": {
     "base_uri": "https://localhost:8080/",
     "height": 424
    },
    "id": "iYJRvybGsoYz",
    "outputId": "6172cfc4-16cf-49b2-b9c3-751bbccf6e3b"
   },
   "outputs": [],
   "source": [
    "ratings = ratings.drop(['timestamp'], axis=1)\n",
    "ratings"
   ]
  },
  {
   "cell_type": "markdown",
   "metadata": {
    "id": "efS1mYbQwMud"
   },
   "source": [
    "# Exploratory Data Analysis"
   ]
  },
  {
   "cell_type": "code",
   "execution_count": null,
   "metadata": {
    "colab": {
     "base_uri": "https://localhost:8080/"
    },
    "id": "bVEDPWjZrdyC",
    "outputId": "db47eccd-4d92-409d-df42-c34ed1fe423a"
   },
   "outputs": [],
   "source": [
    "movies.isnull().sum()"
   ]
  },
  {
   "cell_type": "code",
   "execution_count": null,
   "metadata": {
    "colab": {
     "base_uri": "https://localhost:8080/"
    },
    "id": "Jm2uqHj7wedF",
    "outputId": "c2412f6c-a366-4dc0-f433-c49bfa55a54b"
   },
   "outputs": [],
   "source": [
    "ratings.isnull().sum()"
   ]
  },
  {
   "cell_type": "code",
   "execution_count": null,
   "metadata": {
    "colab": {
     "base_uri": "https://localhost:8080/",
     "height": 351
    },
    "id": "IQ4XfsIRfmm1",
    "outputId": "266ab18d-18dd-4954-9126-15c990586074"
   },
   "outputs": [],
   "source": [
    "sns.countplot(ratings.rating)"
   ]
  },
  {
   "cell_type": "code",
   "execution_count": null,
   "metadata": {
    "colab": {
     "base_uri": "https://localhost:8080/",
     "height": 424
    },
    "id": "MQ6eE65WreKC",
    "outputId": "fc3dc08f-fb99-4ed9-860b-066e21230e90"
   },
   "outputs": [],
   "source": [
    "new_movie = pd.merge(ratings, movies , on='movieId', how='left')\n",
    "new_movie"
   ]
  },
  {
   "cell_type": "code",
   "execution_count": null,
   "metadata": {
    "colab": {
     "base_uri": "https://localhost:8080/"
    },
    "id": "tW9b5w4qzLxF",
    "outputId": "dadfc039-28c1-4013-9490-610ba053da33"
   },
   "outputs": [],
   "source": [
    "new_movie.isnull().sum()"
   ]
  },
  {
   "cell_type": "markdown",
   "metadata": {
    "id": "JLnw2LnQzAtT"
   },
   "source": [
    "## Buat Collaborative"
   ]
  },
  {
   "cell_type": "code",
   "execution_count": null,
   "metadata": {
    "colab": {
     "base_uri": "https://localhost:8080/",
     "height": 424
    },
    "id": "m07Q8p_oxxMi",
    "outputId": "cc362e78-2616-4716-c8a5-40f3e8e1763a"
   },
   "outputs": [],
   "source": [
    "# Definisikan dataframe ratings ke dalam variabel all_movies_rate\n",
    "all_movies_rate = ratings\n",
    "all_movies_rate"
   ]
  },
  {
   "cell_type": "code",
   "execution_count": null,
   "metadata": {
    "colab": {
     "base_uri": "https://localhost:8080/",
     "height": 424
    },
    "id": "K4dS5OD8zXib",
    "outputId": "7a335fd4-6403-4e0d-ad6c-df998abac793"
   },
   "outputs": [],
   "source": [
    "movie_df = new_movie.sort_values('movieId', ascending=True)\n",
    "movie_df"
   ]
  },
  {
   "cell_type": "code",
   "execution_count": null,
   "metadata": {
    "colab": {
     "base_uri": "https://localhost:8080/"
    },
    "id": "9wthDf4dzmVo",
    "outputId": "93cafdc6-0180-49a0-bc25-a138db97febf"
   },
   "outputs": [],
   "source": [
    "len(movie_df.movieId.unique())"
   ]
  },
  {
   "cell_type": "code",
   "execution_count": null,
   "metadata": {
    "colab": {
     "base_uri": "https://localhost:8080/"
    },
    "id": "9LOm7C9w0_nZ",
    "outputId": "66140c46-1ada-407f-9d11-56a2f5095148"
   },
   "outputs": [],
   "source": [
    "len(movie_df.title.unique())"
   ]
  },
  {
   "cell_type": "code",
   "execution_count": null,
   "metadata": {
    "colab": {
     "base_uri": "https://localhost:8080/"
    },
    "id": "dNZJYA5f14vN",
    "outputId": "4126f851-612a-4c45-eaaf-c2d5562e4f92"
   },
   "outputs": [],
   "source": [
    "movie_df.genres.unique()\n",
    "# print(len(fix_anime.genre.unique()))"
   ]
  },
  {
   "cell_type": "code",
   "execution_count": null,
   "metadata": {
    "colab": {
     "base_uri": "https://localhost:8080/"
    },
    "id": "aaIiOmuAyfhC",
    "outputId": "b5d31096-7dde-40c8-afb7-35f49002ffc5"
   },
   "outputs": [],
   "source": [
    "duplicate_rows_movies = movie_df[movie_df.duplicated()]\n",
    "print(\"number of duplicate rows: \", duplicate_rows_movies.shape)"
   ]
  },
  {
   "cell_type": "code",
   "execution_count": null,
   "metadata": {
    "id": "DE5DfkayyU4p"
   },
   "outputs": [],
   "source": [
    "preparation = movie_df"
   ]
  },
  {
   "cell_type": "code",
   "execution_count": null,
   "metadata": {
    "colab": {
     "base_uri": "https://localhost:8080/"
    },
    "id": "dqSHje91GEiN",
    "outputId": "0583380c-0302-44b5-91b4-41fe545783fd"
   },
   "outputs": [],
   "source": [
    "movie_id = preparation['movieId'].tolist()\n",
    " \n",
    "movie_title = preparation['title'].tolist()\n",
    " \n",
    "movie_genre = preparation['genres'].tolist()\n",
    " \n",
    "print(len(movie_id))\n",
    "print(len(movie_title))\n",
    "print(len(movie_genre))"
   ]
  },
  {
   "cell_type": "code",
   "execution_count": null,
   "metadata": {
    "colab": {
     "base_uri": "https://localhost:8080/",
     "height": 424
    },
    "id": "KrDGwdbsGVTl",
    "outputId": "e3762944-aba5-44ea-93c6-6969e2fd4a74"
   },
   "outputs": [],
   "source": [
    "movie_new = pd.DataFrame({\n",
    "    'Id': movie_id,\n",
    "    'Title': movie_title,\n",
    "    'Genre': movie_genre\n",
    "})\n",
    "movie_new"
   ]
  },
  {
   "cell_type": "code",
   "execution_count": null,
   "metadata": {
    "colab": {
     "base_uri": "https://localhost:8080/",
     "height": 206
    },
    "id": "M0m8YVS-yVEJ",
    "outputId": "7e45cbd1-9612-459a-da79-67d638ca9481"
   },
   "outputs": [],
   "source": [
    "data = movie_new\n",
    "data.sample(5)"
   ]
  },
  {
   "cell_type": "code",
   "execution_count": null,
   "metadata": {
    "colab": {
     "base_uri": "https://localhost:8080/"
    },
    "id": "6qZPSmGsrKHa",
    "outputId": "42433850-7242-420f-f5be-908e46b44b8a"
   },
   "outputs": [],
   "source": [
    "genres = []\n",
    "for genre in data.Genre:\n",
    "    genres = genres + [(genre.replace(' ', '_').replace('|', ' ').replace('-',''))]\n",
    "pd.Series(genres).head(5)"
   ]
  },
  {
   "cell_type": "code",
   "execution_count": null,
   "metadata": {
    "colab": {
     "base_uri": "https://localhost:8080/"
    },
    "id": "_Cj_-SlAHco7",
    "outputId": "9dad49ce-ec38-48f9-8e4d-680959320b6f"
   },
   "outputs": [],
   "source": [
    "from sklearn.feature_extraction.text import TfidfVectorizer\n",
    " \n",
    "# Inisialisasi TfidfVectorizer\n",
    "tf = TfidfVectorizer()\n",
    " \n",
    "# Melakukan perhitungan idf pada data genre\n",
    "tf.fit(genres) \n",
    " \n",
    "# Mapping array dari fitur index integer ke fitur nama\n",
    "tf.get_feature_names()"
   ]
  },
  {
   "cell_type": "code",
   "execution_count": null,
   "metadata": {
    "colab": {
     "base_uri": "https://localhost:8080/"
    },
    "id": "0Tgc2tkEHd8n",
    "outputId": "1901765d-df61-43c5-e547-be6dccb4783a"
   },
   "outputs": [],
   "source": [
    "# Melakukan fit lalu ditransformasikan ke bentuk matrix\n",
    "tfidf_matrix = tf.fit_transform(genres) \n",
    " \n",
    "# Melihat ukuran matrix tfidf\n",
    "tfidf_matrix.shape "
   ]
  },
  {
   "cell_type": "code",
   "execution_count": null,
   "metadata": {
    "colab": {
     "base_uri": "https://localhost:8080/"
    },
    "id": "NVB-bxOGHfhF",
    "outputId": "81f20add-4022-464f-a0c3-7a559cd44088"
   },
   "outputs": [],
   "source": [
    "# Mengubah vektor tf-idf dalam bentuk matriks dengan fungsi todense()\n",
    "tfidf_matrix.todense()"
   ]
  },
  {
   "cell_type": "code",
   "execution_count": null,
   "metadata": {
    "colab": {
     "base_uri": "https://localhost:8080/",
     "height": 858
    },
    "id": "E7AeBvbRHg9a",
    "outputId": "cfbd6142-a0b5-467c-a8fd-29f72633c9a8"
   },
   "outputs": [],
   "source": [
    "# Membuat dataframe untuk melihat tf-idf matrix\n",
    "# Kolom diisi dengan genre\n",
    "# Baris diisi dengan nama anime\n",
    " \n",
    "pd.DataFrame(\n",
    "    tfidf_matrix.todense(), \n",
    "    columns=tf.get_feature_names(),\n",
    "    index=data.Title\n",
    ").sample(20, axis=1).sample(10, axis=0)"
   ]
  },
  {
   "cell_type": "code",
   "execution_count": null,
   "metadata": {
    "id": "64O9yrNVH5su"
   },
   "outputs": [],
   "source": [
    "from sklearn.metrics.pairwise import cosine_similarity\n",
    " \n",
    "# Menghitung cosine similarity pada matrix tf-idf\n",
    "cosine_sim = cosine_similarity(tfidf_matrix) \n",
    "cosine_sim"
   ]
  },
  {
   "cell_type": "code",
   "execution_count": null,
   "metadata": {
    "id": "j49FCH1JH7l-"
   },
   "outputs": [],
   "source": [
    "# Membuat dataframe dari variabel cosine_sim dengan baris dan kolom berupa judul movie\n",
    "cosine_sim_df = pd.DataFrame(cosine_sim, index=data['Title'], columns=data['Title'])\n",
    "print('Shape:', cosine_sim_df.shape)\n",
    " \n",
    "# Melihat similarity matrix pada setiap resto\n",
    "cosine_sim_df.sample(5, axis=1).sample(10, axis=0)"
   ]
  },
  {
   "cell_type": "code",
   "execution_count": null,
   "metadata": {
    "id": "TjnMeS5IH_X3"
   },
   "outputs": [],
   "source": [
    "def movie_recommendations(movie_title, similarity_data=cosine_sim_df, items=data[['Title', 'Genre']], k=7):\n",
    "    \"\"\"\n",
    "    Rekomendasi movies berdasarkan kemiripan dataframe\n",
    " \n",
    "    Parameter:\n",
    "    ---\n",
    "    movie_title : tipe data string (str)\n",
    "                Nama anime (index kemiripan dataframe)\n",
    "    similarity_data : tipe data pd.DataFrame (object)\n",
    "                      Kesamaan dataframe, simetrik, dengan anime sebagai \n",
    "                      indeks dan kolom\n",
    "    items : tipe data pd.DataFrame (object)\n",
    "            Mengandung kedua nama dan fitur lainnya yang digunakan untuk mendefinisikan kemiripan\n",
    "    k : tipe data integer (int)\n",
    "        Banyaknya jumlah rekomendasi yang diberikan\n",
    "    ---\n",
    " \n",
    " \n",
    "    Pada index ini, kita mengambil k dengan nilai similarity terbesar \n",
    "    pada index matrix yang diberikan (i).\n",
    "    \"\"\"\n",
    " \n",
    " \n",
    "    # Mengambil data dengan menggunakan argpartition untuk melakukan partisi secara tidak langsung sepanjang sumbu yang diberikan    \n",
    "    # Dataframe diubah menjadi numpy\n",
    "    # Range(start, stop, step)\n",
    "    index = similarity_data.loc[:,movie_title].to_numpy().argpartition(\n",
    "        range(-1, -k, -1))\n",
    "    \n",
    "    # Mengambil data dengan similarity terbesar dari index yang ada\n",
    "    closest = similarity_data.columns[index[-1:-(k+2):-1]]\n",
    "    \n",
    "    # Drop nama_resto agar nama anime yang dicari tidak muncul dalam daftar rekomendasi\n",
    "    closest = closest.drop(movie_title, errors='ignore')\n",
    " \n",
    "    return pd.DataFrame(closest).merge(items).head(k)"
   ]
  },
  {
   "cell_type": "code",
   "execution_count": null,
   "metadata": {
    "id": "3K6iZM7QIYi7"
   },
   "outputs": [],
   "source": [
    "data[data.Title.eq('Toy Story (1995)')]"
   ]
  },
  {
   "cell_type": "code",
   "execution_count": null,
   "metadata": {
    "id": "H12-krIrJaya"
   },
   "outputs": [],
   "source": [
    "# Mendapatkan rekomendasi restoran yang mirip dengan Naruto\n",
    "movie_recommendations('Avengers: Age of Ultron (2015)')"
   ]
  },
  {
   "cell_type": "markdown",
   "metadata": {
    "id": "64vW55OIKSxF"
   },
   "source": [
    "# Collaborative Filtering"
   ]
  },
  {
   "cell_type": "code",
   "execution_count": null,
   "metadata": {
    "id": "uQGOf0nYKd3z"
   },
   "outputs": [],
   "source": [
    "# Membaca dataset\n",
    " \n",
    "df = ratings\n",
    "df"
   ]
  },
  {
   "cell_type": "code",
   "execution_count": null,
   "metadata": {
    "id": "Uc6SvAP0LUX2"
   },
   "outputs": [],
   "source": [
    "# Mendapatkan jumlah user\n",
    "num_users = len(user_to_user_encoded)\n",
    "print(num_users)\n",
    " \n",
    "# Mendapatkan jumlah anime\n",
    "num_anime = len(anime_encoded_to_anime)\n",
    "print(num_anime)\n",
    " \n",
    "# Mengubah rating menjadi nilai float\n",
    "df['rating'] = df['rating'].values.astype(np.float32)\n",
    " \n",
    "# Nilai minimum rating\n",
    "min_rating = min(df['rating'])\n",
    " \n",
    "# Nilai maksimal rating\n",
    "max_rating = max(df['rating'])\n",
    " \n",
    "print('Number of User: {}, Number of anime: {}, Min Rating: {}, Max Rating: {}'.format(\n",
    "    num_users, num_anime, min_rating, max_rating\n",
    "))"
   ]
  },
  {
   "cell_type": "code",
   "execution_count": null,
   "metadata": {
    "id": "B_JSbFxoLXYf"
   },
   "outputs": [],
   "source": [
    "# Mengacak dataset\n",
    "df = df.sample(frac=1, random_state=42)\n",
    "df"
   ]
  },
  {
   "cell_type": "code",
   "execution_count": null,
   "metadata": {
    "id": "OGxm5z8VLZEC"
   },
   "outputs": [],
   "source": [
    "# Membuat variabel x untuk mencocokkan data user dan anime menjadi satu value\n",
    "x = df[['user', 'anime']].values\n",
    " \n",
    "# Membuat variabel y untuk membuat rating dari hasil \n",
    "y = df['rating'].apply(lambda x: (x - min_rating) / (max_rating - min_rating)).values\n",
    " \n",
    "# Membagi menjadi 80% data train dan 20% data validasi\n",
    "train_indices = int(0.8 * df.shape[0])\n",
    "x_train, x_val, y_train, y_val = (\n",
    "    x[:train_indices],\n",
    "    x[train_indices:],\n",
    "    y[:train_indices],\n",
    "    y[train_indices:]\n",
    ")\n",
    " \n",
    "print(x, y)"
   ]
  },
  {
   "cell_type": "code",
   "execution_count": null,
   "metadata": {
    "id": "4ESA-pTZLa58"
   },
   "outputs": [],
   "source": [
    "class RecommenderNet(tf.keras.Model):\n",
    " \n",
    "  # Insialisasi fungsi\n",
    "  def __init__(self, num_users, num_anime, embedding_size, **kwargs):\n",
    "    super(RecommenderNet, self).__init__(**kwargs)\n",
    "    self.num_users = num_users\n",
    "    self.num_anime = num_anime\n",
    "    self.embedding_size = embedding_size\n",
    "    self.user_embedding = layers.Embedding( # layer embedding user\n",
    "        num_users,\n",
    "        embedding_size,\n",
    "        embeddings_initializer = 'he_normal',\n",
    "        embeddings_regularizer = keras.regularizers.l2(1e-6)\n",
    "    )\n",
    "    self.user_bias = layers.Embedding(num_users, 1) # layer embedding user bias\n",
    "    self.anime_embedding = layers.Embedding( # layer embeddings anime\n",
    "        num_anime,\n",
    "        embedding_size,\n",
    "        embeddings_initializer = 'he_normal',\n",
    "        embeddings_regularizer = keras.regularizers.l2(1e-6)\n",
    "    )\n",
    "    self.anime_bias = layers.Embedding(num_anime, 1) # layer embedding anime bias\n",
    " \n",
    "  def call(self, inputs):\n",
    "    user_vector = self.user_embedding(inputs[:,0]) # memanggil layer embedding 1\n",
    "    user_bias = self.user_bias(inputs[:, 0]) # memanggil layer embedding 2\n",
    "    anime_vector = self.anime_embedding(inputs[:, 1]) # memanggil layer embedding 3\n",
    "    anime_bias = self.anime_bias(inputs[:, 1]) # memanggil layer embedding 4\n",
    " \n",
    "    dot_user_anime = tf.tensordot(user_vector, anime_vector, 2) \n",
    " \n",
    "    x = dot_user_anime + user_bias + anime_bias\n",
    "    \n",
    "    return tf.nn.sigmoid(x) # activation sigmoid"
   ]
  },
  {
   "cell_type": "code",
   "execution_count": null,
   "metadata": {
    "id": "qebjJWxLLcaX"
   },
   "outputs": [],
   "source": [
    "model = RecommenderNet(num_users, num_anime, 50) # inisialisasi model\n",
    " \n",
    "# model compile\n",
    "model.compile(\n",
    "    loss = tf.keras.losses.BinaryCrossentropy(),\n",
    "    optimizer = keras.optimizers.Adam(learning_rate=0.001),\n",
    "    metrics=[tf.keras.metrics.RootMeanSquaredError()]\n",
    ")"
   ]
  },
  {
   "cell_type": "code",
   "execution_count": null,
   "metadata": {
    "id": "XPhuMAZALgRi"
   },
   "outputs": [],
   "source": [
    "# Memulai training\n",
    " \n",
    "history = model.fit(\n",
    "    x = x_train,\n",
    "    y = y_train,\n",
    "    batch_size = 50000,\n",
    "    epochs = 50,\n",
    "    validation_data = (x_val, y_val)\n",
    ")"
   ]
  },
  {
   "cell_type": "code",
   "execution_count": null,
   "metadata": {
    "id": "6E2HMI9mLiTk"
   },
   "outputs": [],
   "source": [
    "plt.plot(history.history['root_mean_squared_error'])\n",
    "plt.plot(history.history['val_root_mean_squared_error'])\n",
    "plt.title('model_metrics')\n",
    "plt.ylabel('root_mean_squared_error')\n",
    "plt.xlabel('epoch')\n",
    "plt.legend(['train', 'test'], loc='upper left')\n",
    "plt.show()"
   ]
  },
  {
   "cell_type": "code",
   "execution_count": null,
   "metadata": {
    "id": "jCbNXWwkLlFr"
   },
   "outputs": [],
   "source": [
    "anime_df = anime_new\n",
    "df = pd.read_csv('rating.csv')\n",
    " \n",
    "# Mengambil sample user\n",
    "user_id = df.user_id.sample(1).iloc[0]\n",
    "anime_view_by_user = df[df.user_id == user_id]\n",
    " \n",
    "anime_not_view = anime_df[~anime_df['id'].isin(anime_view_by_user.anime_id.values)]['id'] \n",
    "anime_not_view = list(\n",
    "    set(anime_not_view)\n",
    "    .intersection(set(anime_to_anime_encoded.keys()))\n",
    ")\n",
    " \n",
    "anime_not_view = [[anime_to_anime_encoded.get(x)] for x in anime_not_view]\n",
    "user_encoder = user_to_user_encoded.get(user_id)\n",
    "user_resto_array = np.hstack(\n",
    "    ([[user_encoder]] * len(anime_not_view), anime_not_view)\n",
    ")"
   ]
  },
  {
   "cell_type": "code",
   "execution_count": null,
   "metadata": {
    "id": "WeXx6-hiLmkW"
   },
   "outputs": [],
   "source": [
    "ratings = model.predict(user_resto_array).flatten()\n",
    " \n",
    "top_ratings_indices = ratings.argsort()[-10:][::-1]\n",
    "recommended_anime_ids = [\n",
    "    anime_encoded_to_anime.get(anime_not_view[x][0]) for x in top_ratings_indices\n",
    "]\n",
    " \n",
    "print('Showing recommendations for users: {}'.format(user_id))\n",
    "print('===' * 9)\n",
    "print('Animer with high ratings from user')\n",
    "print('----' * 8)\n",
    " \n",
    "top_anime_user = (\n",
    "    anime_view_by_user.sort_values(\n",
    "        by = 'rating',\n",
    "        ascending=False\n",
    "    )\n",
    "    .head(5)\n",
    "    .anime_id.values\n",
    ")\n",
    " \n",
    "anime_df_rows = anime_df[anime_df['id'].isin(top_anime_user)]\n",
    "for row in anime_df_rows.itertuples():\n",
    "    print(row.anime_name, ':', row.genre)\n",
    " \n",
    "print('----' * 8)\n",
    "print('Top 10 anime recommendation')\n",
    "print('----' * 8)\n",
    " \n",
    "recommended_anime = anime_df[anime_df['id'].isin(recommended_anime_ids)]\n",
    "for row in recommended_anime.itertuples():\n",
    "    print(row.anime_name, ':', row.genre)"
   ]
  },
  {
   "cell_type": "code",
   "execution_count": null,
   "metadata": {
    "id": "u0K89QvQKpwA"
   },
   "outputs": [],
   "source": []
  }
 ],
 "metadata": {
  "accelerator": "GPU",
  "colab": {
   "collapsed_sections": [],
   "provenance": []
  },
  "kernelspec": {
   "display_name": "Python 3 (ipykernel)",
   "language": "python",
   "name": "python3"
  },
  "language_info": {
   "codemirror_mode": {
    "name": "ipython",
    "version": 3
   },
   "file_extension": ".py",
   "mimetype": "text/x-python",
   "name": "python",
   "nbconvert_exporter": "python",
   "pygments_lexer": "ipython3",
   "version": "3.9.7"
  }
 },
 "nbformat": 4,
 "nbformat_minor": 1
}
